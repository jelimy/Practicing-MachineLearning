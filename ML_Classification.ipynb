{
 "cells": [
  {
   "cell_type": "markdown",
   "id": "opponent-douglas",
   "metadata": {},
   "source": [
    "# 머신러닝 분류(Classification) 실습 : Sklearn iris 품종 예측"
   ]
  },
  {
   "cell_type": "code",
   "execution_count": 11,
   "id": "crazy-roads",
   "metadata": {},
   "outputs": [],
   "source": [
    "import numpy as np\n",
    "import pandas as pd\n",
    "import matplotlib.pyplot as plt\n",
    "import seaborn as sns\n",
    "\n",
    "from sklearn.datasets import load_iris\n",
    "from sklearn.tree import DecisionTreeClassifier\n",
    "from sklearn.ensemble import RandomForestClassifier\n",
    "from sklearn.linear_model import LogisticRegression\n",
    "from sklearn.neighbors import KNeighborsClassifier\n",
    "from sklearn.model_selection import train_test_split\n",
    "from sklearn.metrics import accuracy_score,confusion_matrix,precision_score, recall_score, f1_score, roc_auc_score, roc_curve, classification_report, plot_confusion_matrix\n",
    "\n",
    "import warnings\n",
    "warnings.filterwarnings(action='ignore')"
   ]
  },
  {
   "cell_type": "markdown",
   "id": "furnished-irish",
   "metadata": {},
   "source": [
    "### sklearn 패키지에서 iris 데이터 불러오기"
   ]
  },
  {
   "cell_type": "code",
   "execution_count": 2,
   "id": "assured-applicant",
   "metadata": {},
   "outputs": [
    {
     "data": {
      "text/plain": [
       "dict_keys(['data', 'target', 'frame', 'target_names', 'DESCR', 'feature_names', 'filename'])"
      ]
     },
     "execution_count": 2,
     "metadata": {},
     "output_type": "execute_result"
    }
   ],
   "source": [
    "dataset = load_iris()\n",
    "dataset.keys()"
   ]
  },
  {
   "cell_type": "code",
   "execution_count": 3,
   "id": "assisted-official",
   "metadata": {},
   "outputs": [
    {
     "data": {
      "text/plain": [
       "['sepal length (cm)',\n",
       " 'sepal width (cm)',\n",
       " 'petal length (cm)',\n",
       " 'petal width (cm)']"
      ]
     },
     "execution_count": 3,
     "metadata": {},
     "output_type": "execute_result"
    }
   ],
   "source": [
    "dataset.feature_names #['sepal length (cm)', 'sepal width (cm)', 'petal length (cm)', 'petal width (cm)']"
   ]
  },
  {
   "cell_type": "code",
   "execution_count": 4,
   "id": "convertible-consumption",
   "metadata": {},
   "outputs": [
    {
     "data": {
      "text/html": [
       "<div>\n",
       "<style scoped>\n",
       "    .dataframe tbody tr th:only-of-type {\n",
       "        vertical-align: middle;\n",
       "    }\n",
       "\n",
       "    .dataframe tbody tr th {\n",
       "        vertical-align: top;\n",
       "    }\n",
       "\n",
       "    .dataframe thead th {\n",
       "        text-align: right;\n",
       "    }\n",
       "</style>\n",
       "<table border=\"1\" class=\"dataframe\">\n",
       "  <thead>\n",
       "    <tr style=\"text-align: right;\">\n",
       "      <th></th>\n",
       "      <th>sepal_length</th>\n",
       "      <th>sepal_width</th>\n",
       "      <th>petal_length</th>\n",
       "      <th>petal_width</th>\n",
       "      <th>target</th>\n",
       "    </tr>\n",
       "  </thead>\n",
       "  <tbody>\n",
       "    <tr>\n",
       "      <th>0</th>\n",
       "      <td>5.1</td>\n",
       "      <td>3.5</td>\n",
       "      <td>1.4</td>\n",
       "      <td>0.2</td>\n",
       "      <td>0</td>\n",
       "    </tr>\n",
       "    <tr>\n",
       "      <th>1</th>\n",
       "      <td>4.9</td>\n",
       "      <td>3.0</td>\n",
       "      <td>1.4</td>\n",
       "      <td>0.2</td>\n",
       "      <td>0</td>\n",
       "    </tr>\n",
       "    <tr>\n",
       "      <th>2</th>\n",
       "      <td>4.7</td>\n",
       "      <td>3.2</td>\n",
       "      <td>1.3</td>\n",
       "      <td>0.2</td>\n",
       "      <td>0</td>\n",
       "    </tr>\n",
       "    <tr>\n",
       "      <th>3</th>\n",
       "      <td>4.6</td>\n",
       "      <td>3.1</td>\n",
       "      <td>1.5</td>\n",
       "      <td>0.2</td>\n",
       "      <td>0</td>\n",
       "    </tr>\n",
       "    <tr>\n",
       "      <th>4</th>\n",
       "      <td>5.0</td>\n",
       "      <td>3.6</td>\n",
       "      <td>1.4</td>\n",
       "      <td>0.2</td>\n",
       "      <td>0</td>\n",
       "    </tr>\n",
       "  </tbody>\n",
       "</table>\n",
       "</div>"
      ],
      "text/plain": [
       "   sepal_length  sepal_width  petal_length  petal_width  target\n",
       "0           5.1          3.5           1.4          0.2       0\n",
       "1           4.9          3.0           1.4          0.2       0\n",
       "2           4.7          3.2           1.3          0.2       0\n",
       "3           4.6          3.1           1.5          0.2       0\n",
       "4           5.0          3.6           1.4          0.2       0"
      ]
     },
     "execution_count": 4,
     "metadata": {},
     "output_type": "execute_result"
    }
   ],
   "source": [
    "cols = ['sepal_length', 'sepal_width', 'petal_length', 'petal_width']\n",
    "df = pd.DataFrame(data=dataset.data, columns=cols)\n",
    "df['target'] = dataset.target\n",
    "df.head()"
   ]
  },
  {
   "cell_type": "code",
   "execution_count": 5,
   "id": "personalized-authentication",
   "metadata": {},
   "outputs": [
    {
     "name": "stdout",
     "output_type": "stream",
     "text": [
      "<class 'pandas.core.frame.DataFrame'>\n",
      "RangeIndex: 150 entries, 0 to 149\n",
      "Data columns (total 5 columns):\n",
      " #   Column        Non-Null Count  Dtype  \n",
      "---  ------        --------------  -----  \n",
      " 0   sepal_length  150 non-null    float64\n",
      " 1   sepal_width   150 non-null    float64\n",
      " 2   petal_length  150 non-null    float64\n",
      " 3   petal_width   150 non-null    float64\n",
      " 4   target        150 non-null    int32  \n",
      "dtypes: float64(4), int32(1)\n",
      "memory usage: 5.4 KB\n"
     ]
    }
   ],
   "source": [
    "df.info()"
   ]
  },
  {
   "cell_type": "code",
   "execution_count": 6,
   "id": "social-hybrid",
   "metadata": {},
   "outputs": [
    {
     "name": "stdout",
     "output_type": "stream",
     "text": [
      "150 (150, 4)\n",
      "(120, 4) (30, 4) 120 30\n"
     ]
    }
   ],
   "source": [
    "df_y = df.iloc[:,-1]  #df[\"traget\"]\n",
    "df_X = df.iloc[:,:-1]\n",
    "print(len(df_y), df_X.shape)\n",
    "X_train, X_test, y_train, y_test = train_test_split(df_X, df_y, test_size=0.2, random_state=36,  shuffle=True)\n",
    "print(X_train.shape, X_test.shape, len(y_train), len(y_test))"
   ]
  },
  {
   "cell_type": "markdown",
   "id": "unlikely-worker",
   "metadata": {},
   "source": [
    "### 필요 함수 정의"
   ]
  },
  {
   "cell_type": "code",
   "execution_count": 7,
   "id": "novel-appeal",
   "metadata": {},
   "outputs": [],
   "source": [
    "def myscore(y_test, pred, proba, pr_curve=0, auc_curve=0):\n",
    "    accuracy = accuracy_score(y_test, pred)\n",
    "    precision = precision_score(y_test, pred, average='macro')\n",
    "    recall = recall_score(y_test, pred, average='macro')\n",
    "    f1 = f1_score(y_test, pred, average='macro')\n",
    "    auc = roc_auc_score(y_test, proba,  average=\"macro\", multi_class=\"ovr\")\n",
    "    print(\"Accuracy:{:.6f}  precision:{:.6f}, recall:{:.6f}, f1:{:.6f}, auc:{:.6f}\".format(accuracy, precision, recall, f1, auc))\n",
    "    mtx = confusion_matrix(y_test, pred)\n",
    "    print(mtx)"
   ]
  },
  {
   "cell_type": "markdown",
   "id": "rapid-afghanistan",
   "metadata": {},
   "source": [
    "### DecisionTree 분류 예측 및 평가"
   ]
  },
  {
   "cell_type": "code",
   "execution_count": 8,
   "id": "revolutionary-picking",
   "metadata": {},
   "outputs": [
    {
     "name": "stdout",
     "output_type": "stream",
     "text": [
      "Accuracy:0.966667  precision:0.972222, recall:0.969697, f1:0.969634, auc:0.976077\n",
      "[[ 8  0  0]\n",
      " [ 0 10  1]\n",
      " [ 0  0 11]]\n"
     ]
    }
   ],
   "source": [
    "dt = DecisionTreeClassifier()\n",
    "dt.fit(X_train, y_train)\n",
    "pred = dt.predict(X_test)\n",
    "proba = dt.predict_proba(X_test)\n",
    "\n",
    "myscore(y_test, pred, proba)"
   ]
  },
  {
   "cell_type": "code",
   "execution_count": 10,
   "id": "mathematical-idaho",
   "metadata": {},
   "outputs": [
    {
     "name": "stdout",
     "output_type": "stream",
     "text": [
      "              precision    recall  f1-score   support\n",
      "\n",
      "           0       1.00      1.00      1.00         8\n",
      "           1       1.00      0.91      0.95        11\n",
      "           2       0.92      1.00      0.96        11\n",
      "\n",
      "    accuracy                           0.97        30\n",
      "   macro avg       0.97      0.97      0.97        30\n",
      "weighted avg       0.97      0.97      0.97        30\n",
      "\n"
     ]
    }
   ],
   "source": [
    "report = classification_report(y_test, pred)\n",
    "print(report)"
   ]
  },
  {
   "cell_type": "code",
   "execution_count": 12,
   "id": "frank-rugby",
   "metadata": {},
   "outputs": [
    {
     "data": {
      "image/png": "[encoded data removed]",
      "text/plain": [
       "<Figure size 144x144 with 2 Axes>"
      ]
     },
     "metadata": {
      "needs_background": "light"
     },
     "output_type": "display_data"
    }
   ],
   "source": [
    "fig, ax = plt.subplots(figsize=(2, 2))\n",
    "plot_confusion_matrix(dt, X_test, y_test, cmap=\"Blues\",ax=ax)  \n",
    "plt.show() "
   ]
  },
  {
   "cell_type": "code",
   "execution_count": 14,
   "id": "quarterly-fight",
   "metadata": {},
   "outputs": [
    {
     "data": {
      "image/png": "[encoded data removed]",
      "text/plain": [
       "<Figure size 144x144 with 2 Axes>"
      ]
     },
     "metadata": {
      "needs_background": "light"
     },
     "output_type": "display_data"
    }
   ],
   "source": [
    "cm = confusion_matrix(y_test, pred, labels=dt.classes_)\n",
    "fig, ax = plt.subplots(figsize=(2, 2))\n",
    "ConfusionMatrixDisplay(confusion_matrix=cm).plot(cmap=\"Blues\",ax=ax) \n",
    "plt.show()"
   ]
  },
  {
   "cell_type": "code",
   "execution_count": 15,
   "id": "accessible-pacific",
   "metadata": {},
   "outputs": [
    {
     "data": {
      "text/plain": [
       "array([1, 2, 1, 2, 2, 1, 1, 1, 1, 1, 1, 0, 2, 1, 0, 0, 0, 2, 0, 2, 0, 2,\n",
       "       2, 0, 2, 2, 0, 2, 1, 2])"
      ]
     },
     "execution_count": 15,
     "metadata": {},
     "output_type": "execute_result"
    }
   ],
   "source": [
    "pred"
   ]
  },
  {
   "cell_type": "code",
   "execution_count": 16,
   "id": "specified-legislation",
   "metadata": {},
   "outputs": [
    {
     "data": {
      "text/plain": [
       "array([1, 2, 1, 2, 2, 1, 1, 1, 1, 1, 1, 0, 2, 1, 0, 0, 0, 1, 0, 2, 0, 2,\n",
       "       2, 0, 2, 2, 0, 2, 1, 2])"
      ]
     },
     "execution_count": 16,
     "metadata": {},
     "output_type": "execute_result"
    }
   ],
   "source": [
    "np.array(y_test).flatten()"
   ]
  },
  {
   "cell_type": "code",
   "execution_count": 16,
   "id": "stuck-plane",
   "metadata": {},
   "outputs": [
    {
     "name": "stdout",
     "output_type": "stream",
     "text": [
      "[17]\n"
     ]
    }
   ],
   "source": [
    "a = pred\n",
    "b = np.array(y_test).flatten()\n",
    "diff = [idx for idx, (i, j) in enumerate(zip(a, b)) if i != j]\n",
    "print(diff) "
   ]
  },
  {
   "cell_type": "code",
   "execution_count": 17,
   "id": "tender-screening",
   "metadata": {},
   "outputs": [
    {
     "data": {
      "text/plain": [
       "sepal_length    6.7\n",
       "sepal_width     3.0\n",
       "petal_length    5.0\n",
       "petal_width     1.7\n",
       "Name: 77, dtype: float64"
      ]
     },
     "execution_count": 17,
     "metadata": {},
     "output_type": "execute_result"
    }
   ],
   "source": [
    "X_test.iloc[17]"
   ]
  },
  {
   "cell_type": "code",
   "execution_count": 18,
   "id": "vanilla-douglas",
   "metadata": {},
   "outputs": [
    {
     "name": "stdout",
     "output_type": "stream",
     "text": [
      "(30, 5)\n"
     ]
    },
    {
     "data": {
      "image/png": "[encoded data removed]",
      "text/plain": [
       "<Figure size 765.725x720 with 20 Axes>"
      ]
     },
     "metadata": {},
     "output_type": "display_data"
    }
   ],
   "source": [
    "temp_test_df = X_test.copy()\n",
    "temp_test_df[\"target\"] = y_test\n",
    "\n",
    "sns.set_theme(style=\"ticks\")\n",
    "sns.pairplot(temp_test_df, hue=\"target\")\n",
    "plt.show()"
   ]
  },
  {
   "cell_type": "code",
   "execution_count": 19,
   "id": "legitimate-reason",
   "metadata": {},
   "outputs": [
    {
     "name": "stdout",
     "output_type": "stream",
     "text": [
      "Index(['sepal_length', 'sepal_width', 'petal_length', 'petal_width', 'target'], dtype='object')\n"
     ]
    },
    {
     "data": {
      "image/png": "[encoded data removed]",
      "text/plain": [
       "<Figure size 432x288 with 2 Axes>"
      ]
     },
     "metadata": {},
     "output_type": "display_data"
    }
   ],
   "source": [
    "#------------ 결측X, 수치형 : 분석데이터\n",
    "#분석 -------- 상관분석 : 피쳐관계\n",
    "#---------------------: 일반피쳐:다중공선 타켓피쳐:상관도\n",
    "print(df.columns)\n",
    "sns.heatmap(df.corr(), annot=True, cmap='Blues')\n",
    "plt.show()"
   ]
  },
  {
   "cell_type": "markdown",
   "id": "fossil-rapid",
   "metadata": {},
   "source": [
    "## Pipeline = Scaler + PCA\n",
    "* 정규화후 사용 : 최대분산(수치,스케일에 민감)"
   ]
  },
  {
   "cell_type": "code",
   "execution_count": 20,
   "id": "indian-saudi",
   "metadata": {},
   "outputs": [
    {
     "name": "stdout",
     "output_type": "stream",
     "text": [
      "(120, 4) (30, 4) 120 30\n"
     ]
    }
   ],
   "source": [
    "print(X_train.shape, X_test.shape, len(y_train), len(y_test))"
   ]
  },
  {
   "cell_type": "code",
   "execution_count": 21,
   "id": "governing-campbell",
   "metadata": {},
   "outputs": [
    {
     "name": "stdout",
     "output_type": "stream",
     "text": [
      "(150, 2)\n",
      "주성분(PC) 2개가 전체 데이터를 얼마나 설명할수 있는가?\n",
      " 0.9581320720000164 [0.72962445 0.22850762]\n"
     ]
    }
   ],
   "source": [
    "from sklearn.decomposition import PCA\n",
    "from sklearn.preprocessing import StandardScaler\n",
    "from sklearn.pipeline import make_pipeline\n",
    "\n",
    "std_scaler = StandardScaler()\n",
    "# X_train_scaler = std_scaler.fit_transform(X_train)  \n",
    "# X_test_scaler  = std_scaler.transform(X_test) \n",
    "\n",
    "pca = PCA(n_components=2)\n",
    "# res = pca.fit_transform(X_train_scaler)\n",
    "\n",
    "pipeline = make_pipeline(std_scaler, pca)\n",
    "pca_res = pipeline.fit_transform(df_X)\n",
    "print(pca_res.shape)\n",
    "print(\"주성분(PC) 2개가 전체 데이터를 얼마나 설명할수 있는가?\\n\", np.sum(pca.explained_variance_ratio_), pca.explained_variance_ratio_)\n"
   ]
  },
  {
   "cell_type": "code",
   "execution_count": 22,
   "id": "moral-cholesterol",
   "metadata": {},
   "outputs": [
    {
     "data": {
      "text/html": [
       "<div>\n",
       "<style scoped>\n",
       "    .dataframe tbody tr th:only-of-type {\n",
       "        vertical-align: middle;\n",
       "    }\n",
       "\n",
       "    .dataframe tbody tr th {\n",
       "        vertical-align: top;\n",
       "    }\n",
       "\n",
       "    .dataframe thead th {\n",
       "        text-align: right;\n",
       "    }\n",
       "</style>\n",
       "<table border=\"1\" class=\"dataframe\">\n",
       "  <thead>\n",
       "    <tr style=\"text-align: right;\">\n",
       "      <th></th>\n",
       "      <th>pc1</th>\n",
       "      <th>pc2</th>\n",
       "      <th>target</th>\n",
       "    </tr>\n",
       "  </thead>\n",
       "  <tbody>\n",
       "    <tr>\n",
       "      <th>0</th>\n",
       "      <td>-2.264703</td>\n",
       "      <td>0.480027</td>\n",
       "      <td>0</td>\n",
       "    </tr>\n",
       "    <tr>\n",
       "      <th>1</th>\n",
       "      <td>-2.080961</td>\n",
       "      <td>-0.674134</td>\n",
       "      <td>0</td>\n",
       "    </tr>\n",
       "    <tr>\n",
       "      <th>2</th>\n",
       "      <td>-2.364229</td>\n",
       "      <td>-0.341908</td>\n",
       "      <td>0</td>\n",
       "    </tr>\n",
       "    <tr>\n",
       "      <th>3</th>\n",
       "      <td>-2.299384</td>\n",
       "      <td>-0.597395</td>\n",
       "      <td>0</td>\n",
       "    </tr>\n",
       "    <tr>\n",
       "      <th>4</th>\n",
       "      <td>-2.389842</td>\n",
       "      <td>0.646835</td>\n",
       "      <td>0</td>\n",
       "    </tr>\n",
       "  </tbody>\n",
       "</table>\n",
       "</div>"
      ],
      "text/plain": [
       "        pc1       pc2  target\n",
       "0 -2.264703  0.480027       0\n",
       "1 -2.080961 -0.674134       0\n",
       "2 -2.364229 -0.341908       0\n",
       "3 -2.299384 -0.597395       0\n",
       "4 -2.389842  0.646835       0"
      ]
     },
     "execution_count": 22,
     "metadata": {},
     "output_type": "execute_result"
    }
   ],
   "source": [
    "pca_df = pd.DataFrame(data=pca_res, columns=[\"pc1\", \"pc2\"])\n",
    "pca_df[\"target\"] = df_y\n",
    "pca_df.head()"
   ]
  },
  {
   "cell_type": "code",
   "execution_count": 23,
   "id": "caroline-mambo",
   "metadata": {},
   "outputs": [
    {
     "name": "stdout",
     "output_type": "stream",
     "text": [
      "<class 'pandas.core.frame.DataFrame'>\n",
      "RangeIndex: 150 entries, 0 to 149\n",
      "Data columns (total 3 columns):\n",
      " #   Column  Non-Null Count  Dtype  \n",
      "---  ------  --------------  -----  \n",
      " 0   pc1     150 non-null    float64\n",
      " 1   pc2     150 non-null    float64\n",
      " 2   target  150 non-null    int32  \n",
      "dtypes: float64(2), int32(1)\n",
      "memory usage: 3.1 KB\n"
     ]
    }
   ],
   "source": [
    "pca_df.info()"
   ]
  },
  {
   "cell_type": "code",
   "execution_count": 24,
   "id": "extensive-mount",
   "metadata": {},
   "outputs": [
    {
     "name": "stdout",
     "output_type": "stream",
     "text": [
      "Accuracy:0.933333  precision:0.948718, recall:0.939394, f1:0.938889, auc:0.952153\n",
      "[[ 8  0  0]\n",
      " [ 0  9  2]\n",
      " [ 0  0 11]]\n"
     ]
    }
   ],
   "source": [
    "pca_df_y = pca_df.iloc[:,-1]  #df[\"traget\"]  \n",
    "pca_df_X = pca_df.iloc[:,:-1]\n",
    "X_train_pca, X_test_pca, y_train_pca, y_test_pca = train_test_split(pca_df_X, pca_df_y, test_size=0.2,  random_state=36, shuffle=True)\n",
    "dt = DecisionTreeClassifier(random_state=36)\n",
    "dt.fit(X_train_pca, y_train_pca)\n",
    "pred = dt.predict(X_test_pca)\n",
    "proba = dt.predict_proba(X_test_pca)\n",
    "# print(pred[:5])\n",
    "# print(proba[:5])\n",
    "myscore(y_test_pca,pred,proba)"
   ]
  },
  {
   "cell_type": "markdown",
   "id": "polyphonic-internship",
   "metadata": {},
   "source": [
    "## cross_val_score"
   ]
  },
  {
   "cell_type": "markdown",
   "id": "documented-newman",
   "metadata": {},
   "source": [
    "* 내부적 cv(폴드)는 StratifiedKFold 전략을 따른다.(같은 점수를 낸다)\n",
    "* 각 폴드마다 taget의 값들이 편중되지않게 들어가게 한다"
   ]
  },
  {
   "cell_type": "markdown",
   "id": "filled-newark",
   "metadata": {},
   "source": [
    "## # KFold"
   ]
  },
  {
   "cell_type": "code",
   "execution_count": 30,
   "id": "stone-psychology",
   "metadata": {},
   "outputs": [
    {
     "name": "stdout",
     "output_type": "stream",
     "text": [
      "TRAIN: 120 TEST: 30\n",
      "0    42\n",
      "1    39\n",
      "2    39\n",
      "Name: target, dtype: int64\n",
      "F1 : 0.969634\n",
      "TRAIN: 120 TEST: 30\n",
      "2    43\n",
      "0    39\n",
      "1    38\n",
      "Name: target, dtype: int64\n",
      "F1 : 1.000000\n",
      "TRAIN: 120 TEST: 30\n",
      "0    41\n",
      "1    40\n",
      "2    39\n",
      "Name: target, dtype: int64\n",
      "F1 : 0.968254\n",
      "TRAIN: 120 TEST: 30\n",
      "1    43\n",
      "2    39\n",
      "0    38\n",
      "Name: target, dtype: int64\n",
      "F1 : 0.922078\n",
      "TRAIN: 120 TEST: 30\n",
      "0    40\n",
      "1    40\n",
      "2    40\n",
      "Name: target, dtype: int64\n",
      "F1 : 0.966583\n",
      "5회 평균 F1:0.9653\n"
     ]
    }
   ],
   "source": [
    "from sklearn.model_selection import KFold\n",
    "from sklearn.model_selection import StratifiedKFold\n",
    "\n",
    "N_SPLITS = 5\n",
    "# bagg = RandomForestClassifier()\n",
    "\n",
    "kfold = KFold(n_splits=N_SPLITS, shuffle=True, random_state=36)\n",
    "scores = []\n",
    "for train_index, test_index in kfold.split(df):\n",
    "    print(\"TRAIN:\", len(train_index), \"TEST:\", len(test_index))\n",
    "    X_train, X_test = df.iloc[train_index,:-1], df.iloc[test_index,:-1]\n",
    "    y_train, y_test = df.iloc[train_index,-1], df.iloc[test_index,-1]\n",
    "    print(y_train.value_counts())\n",
    "    \n",
    "    dt.fit(X_train, y_train)\n",
    "    pred = dt.predict(X_test)\n",
    "    df_score = f1_score(y_test, pred, average=\"macro\")\n",
    "    scores.append(df_score)\n",
    "    print(\"F1 : {:.6f}\".format(df_score))\n",
    "print(\"{:d}회 평균 F1:{:.4f}\".format(N_SPLITS, np.array(scores).mean()))    "
   ]
  },
  {
   "cell_type": "markdown",
   "id": "present-cable",
   "metadata": {},
   "source": [
    "## StratifiedKFold"
   ]
  },
  {
   "cell_type": "code",
   "execution_count": 26,
   "id": "convenient-company",
   "metadata": {},
   "outputs": [
    {
     "name": "stdout",
     "output_type": "stream",
     "text": [
      "TRAIN: 120 TEST: 30\n",
      "F1 : 0.933333\n",
      "TRAIN: 120 TEST: 30\n",
      "F1 : 0.899749\n",
      "TRAIN: 120 TEST: 30\n",
      "F1 : 0.966583\n",
      "TRAIN: 120 TEST: 30\n",
      "F1 : 0.966583\n",
      "TRAIN: 120 TEST: 30\n",
      "F1 : 1.000000\n",
      "5회 평균 F1:0.9532\n"
     ]
    }
   ],
   "source": [
    "from sklearn.model_selection import KFold\n",
    "from sklearn.model_selection import StratifiedKFold\n",
    "\n",
    "N_SPLITS = 5\n",
    "# bagg = RandomForestClassifier()\n",
    "\n",
    "skfold = StratifiedKFold(n_splits=N_SPLITS, shuffle=True, random_state=36)\n",
    "scores = []\n",
    "for train_index, test_index in skfold.split(df_X, df_y): #y값을 편중되는 것 없이 골고루 배치시켜 준다.\n",
    "    print(\"TRAIN:\", len(train_index), \"TEST:\", len(test_index))\n",
    "    X_train, X_test = df_X.iloc[train_index], df_X.iloc[test_index]\n",
    "    y_train, y_test = df_y.iloc[train_index], df_y.iloc[test_index]\n",
    "    dt.fit(X_train, y_train)\n",
    "    pred = dt.predict(X_test)\n",
    "    df_score = f1_score(y_test, pred, average=\"macro\")\n",
    "    scores.append(df_score)\n",
    "    print(\"F1 : {:.6f}\".format(df_score))\n",
    "print(\"{:d}회 평균 F1:{:.4f}\".format(N_SPLITS, np.array(scores).mean()))    "
   ]
  },
  {
   "cell_type": "markdown",
   "id": "alien-throat",
   "metadata": {},
   "source": [
    "## cross_val_score\n",
    "- 내부적 cv(폴드)는 StratifiedKFold 전략을 따른다(같은 점수를 낸다)\n",
    "- 각 폴드마다 target의 값을 편중되지 않게 들어가게 한다."
   ]
  },
  {
   "cell_type": "code",
   "execution_count": 33,
   "id": "specific-intent",
   "metadata": {},
   "outputs": [
    {
     "name": "stdout",
     "output_type": "stream",
     "text": [
      "[0.93333333 0.89974937 0.96658312 0.96658312 1.        ]\n",
      "F1:평균점수: 0.9532497911445279\n"
     ]
    }
   ],
   "source": [
    "from sklearn.model_selection import cross_val_score\n",
    "\n",
    "score_list = cross_val_score(dt, df_X, df_y, cv=skfold, scoring=\"f1_macro\", verbose=0) #shuffle은 없기 때문에 cv에 skfold 값을 넣어서 shuffle을 수행하도록 한다.\n",
    "print(score_list)\n",
    "print(\"F1:평균점수:\", np.mean(score_list))"
   ]
  },
  {
   "cell_type": "code",
   "execution_count": 35,
   "id": "alike-hughes",
   "metadata": {},
   "outputs": [
    {
     "name": "stdout",
     "output_type": "stream",
     "text": [
      "[0.96963423 1.         0.96825397 0.92207792 0.96658312]\n",
      "F1:평균점수: 0.9653098490627094\n"
     ]
    }
   ],
   "source": [
    "score_list = cross_val_score(dt, df_X, df_y, cv=kfold, scoring=\"f1_macro\", verbose=0) #shuffle은 없기 때문에 cv에 skfold 값을 넣어서 shuffle을 수행하도록 한다.\n",
    "print(score_list)\n",
    "print(\"F1:평균점수:\", np.mean(score_list))"
   ]
  },
  {
   "cell_type": "markdown",
   "id": "imported-falls",
   "metadata": {},
   "source": [
    "## GridSearchCV(cv=튜닝)"
   ]
  },
  {
   "cell_type": "code",
   "execution_count": 55,
   "id": "capital-inside",
   "metadata": {},
   "outputs": [
    {
     "name": "stdout",
     "output_type": "stream",
     "text": [
      "0.9532497911445279\n",
      "DecisionTreeClassifier(max_depth=5, random_state=36)\n",
      "{'max_depth': 5, 'min_samples_split': 2}\n",
      "F1:1.000000\n"
     ]
    }
   ],
   "source": [
    "from sklearn.model_selection import GridSearchCV\n",
    "\n",
    "my_param = {\"max_depth\":[1,3,5,7],\n",
    "            \"min_samples_split\":[1,2,3]\n",
    "            }\n",
    "\n",
    "gcv = GridSearchCV(dt, param_grid=my_param, refit=True, cv=skfold, scoring=\"f1_macro\", verbose=0)\n",
    "gcv.fit(df_X, df_y)\n",
    "\n",
    "#max_depth 4번 * min_sample_split 3번 * cv=5 = 총 60번 학습\n",
    "print(gcv.best_score_)\n",
    "print(gcv.best_estimator_)\n",
    "print(gcv.best_params_)\n",
    "\n",
    "pred = gcv.predict(X_test)\n",
    "df_score = f1_score(y_test, pred, average=\"macro\")\n",
    "print(\"F1:{:.6f}\".format(df_score))"
   ]
  },
  {
   "cell_type": "code",
   "execution_count": null,
   "id": "further-budapest",
   "metadata": {},
   "outputs": [],
   "source": []
  }
 ],
 "metadata": {
  "kernelspec": {
   "display_name": "Python 3",
   "language": "python",
   "name": "python3"
  },
  "language_info": {
   "codemirror_mode": {
    "name": "ipython",
    "version": 3
   },
   "file_extension": ".py",
   "mimetype": "text/x-python",
   "name": "python",
   "nbconvert_exporter": "python",
   "pygments_lexer": "ipython3",
   "version": "3.7.7"
  }
 },
 "nbformat": 4,
 "nbformat_minor": 5
}
